{
 "cells": [
  {
   "cell_type": "code",
   "execution_count": 7,
   "id": "d716c940",
   "metadata": {},
   "outputs": [
    {
     "name": "stdout",
     "output_type": "stream",
     "text": [
      "36\n"
     ]
    }
   ],
   "source": [
    "my_list=[2,3,6]\n",
    "result=1\n",
    "for i in my_list:\n",
    "    result=result*i\n",
    "print(result)"
   ]
  },
  {
   "cell_type": "code",
   "execution_count": 8,
   "id": "96e38110",
   "metadata": {},
   "outputs": [
    {
     "name": "stdout",
     "output_type": "stream",
     "text": [
      "[(2, 1), (1, 2), (2, 3), (4, 4), (2, 5)]\n"
     ]
    }
   ],
   "source": [
    "my_list=[(2, 5), (1, 2), (4, 4), (2, 3), (2, 1)]\n",
    "def last(n): return n[-1]\n",
    "def sort_list_last(tuples):\n",
    "    return sorted(tuples, key=last)\n",
    "print(sort_list_last([(2, 5), (1, 2), (4, 4), (2, 3), (2, 1)]))"
   ]
  },
  {
   "cell_type": "code",
   "execution_count": 9,
   "id": "fd71cfe3",
   "metadata": {},
   "outputs": [
    {
     "name": "stdout",
     "output_type": "stream",
     "text": [
      "{'a': 400, 'b': 400, 'd': 400, 'c': 300}\n"
     ]
    }
   ],
   "source": [
    "my_dictionary1={'a': 100, 'b': 200, 'c':300}\n",
    "my_dictionary2={'a': 300, 'b': 200, 'd':400}\n",
    "for key in my_dictionary1.keys():\n",
    "    if key in my_dictionary2.keys():\n",
    "        my_dictionary2[key]=my_dictionary1[key]+my_dictionary2[key]\n",
    "    else:\n",
    "            my_dictionary2[key]= my_dictionary1[key]\n",
    "            print(my_dictionary2)\n",
    "            "
   ]
  },
  {
   "cell_type": "code",
   "execution_count": 6,
   "id": "c35ee449",
   "metadata": {},
   "outputs": [
    {
     "name": "stdout",
     "output_type": "stream",
     "text": [
      "donner un nombre:9\n",
      "{1: 1, 2: 4, 3: 9, 4: 16, 5: 25, 6: 36, 7: 49, 8: 64, 9: 81}\n"
     ]
    }
   ],
   "source": [
    "n=int(input(\"donner un nombre:\"))\n",
    "my_dic={}\n",
    "for i in range(1,n+1):\n",
    "        my_dic[i]=i**2\n",
    "print(my_dic)"
   ]
  },
  {
   "cell_type": "code",
   "execution_count": 5,
   "id": "33987689",
   "metadata": {},
   "outputs": [
    {
     "name": "stdout",
     "output_type": "stream",
     "text": [
      "[('item3', '24.5'), ('item2', '15.10'), ('item1', '12.20')]\n"
     ]
    }
   ],
   "source": [
    "list= [('item1', '12.20'), ('item2', '15.10'), ('item3', '24.5')]\n",
    "def picksecond(item):\n",
    "    return item[1]\n",
    "list.sort(key=picksecond,reverse=True)\n",
    "print(list )"
   ]
  },
  {
   "cell_type": "code",
   "execution_count": null,
   "id": "1f53de09",
   "metadata": {},
   "outputs": [],
   "source": []
  }
 ],
 "metadata": {
  "kernelspec": {
   "display_name": "Python 3",
   "language": "python",
   "name": "python3"
  },
  "language_info": {
   "codemirror_mode": {
    "name": "ipython",
    "version": 3
   },
   "file_extension": ".py",
   "mimetype": "text/x-python",
   "name": "python",
   "nbconvert_exporter": "python",
   "pygments_lexer": "ipython3",
   "version": "3.8.8"
  }
 },
 "nbformat": 4,
 "nbformat_minor": 5
}
